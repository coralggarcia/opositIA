{
 "cells": [
  {
   "cell_type": "code",
   "execution_count": 22,
   "metadata": {
    "collapsed": true
   },
   "outputs": [],
   "source": [
    "from llama_index.core import SQLDatabase\n",
    "from llama_index.llms.openai import OpenAI\n",
    "from llama_index.core.query_engine import NLSQLTableQueryEngine\n",
    "from pathlib import Path\n",
    "\n",
    "import os\n",
    "from dotenv import load_dotenv\n",
    "\n",
    "load_dotenv()  # carga desde .env\n",
    "\n",
    "# opcionalmente, puedes verificar:\n",
    "assert os.getenv(\"OPENAI_API_KEY\"), \"No se encontró OPENAI_API_KEY\"\n",
    "# 1. Cargar base de datos\n",
    "db_path = Path(\"C:/Users/05457936J/Desktop/CORAL/opositIA/data/outputs/oposiciones.db\").resolve()\n",
    "sql_database = SQLDatabase.from_uri(f\"sqlite:///{db_path.as_posix()}\")\n",
    "\n",
    "# 2. Crear cliente OpenAI (usando GPT-4.1-nano, por ejemplo)\n",
    "llm = OpenAI(model=\"gpt-4.1-nano\", temperature=0.1,\n",
    "             api_key=os.getenv(\"OPENAI_API_KEY\"))\n",
    "\n"
   ]
  },
  {
   "cell_type": "code",
   "execution_count": 32,
   "outputs": [
    {
     "name": "stdout",
     "output_type": "stream",
     "text": [
      "> Table Info: Table 'oposiciones' has columns: texto_original (TEXT), titulo (TEXT), organismo_que_convoca (TEXT), titulacion_requerida (TEXT), via (TEXT), plazas_convocadas (TEXT), plazas_libres (TEXT), otras_plazas (TEXT), fecha_de_publicacion (TEXT), fecha_de_cierre (TEXT), referencia (TEXT), .\n",
      "> Table desc str: Table 'oposiciones' has columns: texto_original (TEXT), titulo (TEXT), organismo_que_convoca (TEXT), titulacion_requerida (TEXT), via (TEXT), plazas_convocadas (TEXT), plazas_libres (TEXT), otras_plazas (TEXT), fecha_de_publicacion (TEXT), fecha_de_cierre (TEXT), referencia (TEXT), .\n",
      "> Predicted SQL query: SELECT oposiciones.plazas_libres FROM oposiciones WHERE oposiciones.titulo LIKE '%AUXILIA%' AND oposiciones.organismo_que_convoca LIKE '%EXTREMADURA%' ORDER BY oposiciones.fecha_de_publicacion DESC LIMIT 1;\n",
      "No hay plazas libres de AUXILIA para Extremadura según la información disponible.\n"
     ]
    }
   ],
   "source": [
    "# 3. Crear el motor de preguntas\n",
    "query_engine = NLSQLTableQueryEngine(sql_database=sql_database, llm=llm, verbose=True)\n",
    "\n",
    "pregunta = \"¿cuántas plazas libres de AUXILIA hay para EXTREMADURA?\"\n",
    "respuesta = query_engine.query(pregunta)\n",
    "\n",
    "print(respuesta.response)"
   ],
   "metadata": {
    "collapsed": false
   }
  },
  {
   "cell_type": "code",
   "execution_count": 23,
   "outputs": [
    {
     "name": "stdout",
     "output_type": "stream",
     "text": [
      "                                      texto_original                  titulo  \\\n",
      "0    \\nPROCESOS DE ÁMBITO INTERNACIONAL  \\nPERSON...               TRADUCTOR   \n",
      "1    \\nBACHILLERATO, BACHILLERATO UNIFICADO POLIV...  OFICIAL ADMINISTRATIVO   \n",
      "2    \\nGRADUADO EN EDUCACIÓN SECUNDARIA, EDUCACIÓ...               AUXILIA R   \n",
      "3    \\nMINISTERIO DE ASUNTOS EXTERIORES, UNIÓN EU...               AUXILIA R   \n",
      "4    \\nMINISTERIO DE ASUNTOS EXTERIORES, UNIÓN EU...               AUXILIA R   \n",
      "\n",
      "                               organismo_que_convoca  \\\n",
      "0                              MINISTERIO DE DEFENSA   \n",
      "1  CONSEJERÍA DE TRABAJO, MIGRACIONES Y SEGURIDAD...   \n",
      "2                EMBAJADA DE ESPAÑA EN ACCRA (GHANA)   \n",
      "3                     CONSULADO DE ESPAÑA EN LARACHE   \n",
      "4                       EMBAJADA DE ESPAÑA EN DUBLÍN   \n",
      "\n",
      "                                titulacion_requerida                     via  \\\n",
      "0                                  OFICIAL TRADUCTOR       CONTRATACIÓN FIJA   \n",
      "1  BACHILLERATO, BACHILLERATO UNIFICADO POLIVALEN...       CONTRATACIÓN FIJA   \n",
      "2  GRADUADO EN EDUCACIÓN SECUNDARIA, EDUCACIÓN GE...  CONTRATACIÓN TEMPORA L   \n",
      "3                                          no aplica  CONTRATACIÓN TEMPORA L   \n",
      "4                                          no aplica  CONTRATACIÓN TEMPORA L   \n",
      "\n",
      "  plazas_convocadas plazas_libres otras_plazas fecha_de_publicacion  \\\n",
      "0                 1             1    no aplica   27 de mayo de 2025   \n",
      "1                 1             1    no aplica   30 de mayo de 2025   \n",
      "2                 1             1    no aplica            no aplica   \n",
      "3                 1             1    no aplica   28 de mayo de 2025   \n",
      "4                 1             1    no aplica   30 de mayo de 2025   \n",
      "\n",
      "  fecha_de_cierre referencia  \n",
      "0      10/06/2025     215093  \n",
      "1      13/06/2025     215137  \n",
      "2      11/06/2025     215129  \n",
      "3      04/06/2025     215136  \n",
      "4      12/06/2025     215143  \n"
     ]
    }
   ],
   "source": [
    "import pandas as pd\n",
    "import sqlite3\n",
    "\n",
    "\n",
    "# Conectar y leer toda la tabla\n",
    "conn = sqlite3.connect(db_path)\n",
    "df = pd.read_sql(\"SELECT * FROM oposiciones\", conn)\n",
    "conn.close()\n",
    "\n"
   ],
   "metadata": {
    "collapsed": false
   }
  },
  {
   "cell_type": "code",
   "execution_count": 31,
   "outputs": [
    {
     "data": {
      "text/plain": "                                                    texto_original  \\\ntitulo                                                               \nADMINISTRACIÓN ESPECIAL, SUBESCALA TÉCNICA AUXI...               1   \nADMINISTRATIVO                                                   5   \nADMINISTRATIVO S                                                 1   \nADMINISTRATIVOS DE ADMINISTRACIÓN GENERAL                        1   \nANALISTA DE LABORATORIO                                          1   \n...                                                            ...   \nVIGILANTE S                                                      1   \ncoordinador de ensayos clínicos                                  1   \ninvestigador doctor senior                                       1   \nno aplica                                                       88   \ntécnico superior de apoyo a la investigación                     1   \n\n                                                    organismo_que_convoca  \\\ntitulo                                                                      \nADMINISTRACIÓN ESPECIAL, SUBESCALA TÉCNICA AUXI...                      1   \nADMINISTRATIVO                                                          5   \nADMINISTRATIVO S                                                        1   \nADMINISTRATIVOS DE ADMINISTRACIÓN GENERAL                               1   \nANALISTA DE LABORATORIO                                                 1   \n...                                                                   ...   \nVIGILANTE S                                                             1   \ncoordinador de ensayos clínicos                                         1   \ninvestigador doctor senior                                              1   \nno aplica                                                              88   \ntécnico superior de apoyo a la investigación                            1   \n\n                                                    titulacion_requerida  via  \\\ntitulo                                                                          \nADMINISTRACIÓN ESPECIAL, SUBESCALA TÉCNICA AUXI...                     1    1   \nADMINISTRATIVO                                                         5    5   \nADMINISTRATIVO S                                                       1    1   \nADMINISTRATIVOS DE ADMINISTRACIÓN GENERAL                              1    1   \nANALISTA DE LABORATORIO                                                1    1   \n...                                                                  ...  ...   \nVIGILANTE S                                                            1    1   \ncoordinador de ensayos clínicos                                        1    1   \ninvestigador doctor senior                                             1    1   \nno aplica                                                             88   88   \ntécnico superior de apoyo a la investigación                           1    1   \n\n                                                    plazas_convocadas  \\\ntitulo                                                                  \nADMINISTRACIÓN ESPECIAL, SUBESCALA TÉCNICA AUXI...                  1   \nADMINISTRATIVO                                                      5   \nADMINISTRATIVO S                                                    1   \nADMINISTRATIVOS DE ADMINISTRACIÓN GENERAL                           1   \nANALISTA DE LABORATORIO                                             1   \n...                                                               ...   \nVIGILANTE S                                                         1   \ncoordinador de ensayos clínicos                                     1   \ninvestigador doctor senior                                          1   \nno aplica                                                          88   \ntécnico superior de apoyo a la investigación                        1   \n\n                                                    plazas_libres  \\\ntitulo                                                              \nADMINISTRACIÓN ESPECIAL, SUBESCALA TÉCNICA AUXI...              1   \nADMINISTRATIVO                                                  5   \nADMINISTRATIVO S                                                1   \nADMINISTRATIVOS DE ADMINISTRACIÓN GENERAL                       1   \nANALISTA DE LABORATORIO                                         1   \n...                                                           ...   \nVIGILANTE S                                                     1   \ncoordinador de ensayos clínicos                                 1   \ninvestigador doctor senior                                      1   \nno aplica                                                      88   \ntécnico superior de apoyo a la investigación                    1   \n\n                                                    otras_plazas  \\\ntitulo                                                             \nADMINISTRACIÓN ESPECIAL, SUBESCALA TÉCNICA AUXI...             1   \nADMINISTRATIVO                                                 5   \nADMINISTRATIVO S                                               1   \nADMINISTRATIVOS DE ADMINISTRACIÓN GENERAL                      1   \nANALISTA DE LABORATORIO                                        1   \n...                                                          ...   \nVIGILANTE S                                                    1   \ncoordinador de ensayos clínicos                                1   \ninvestigador doctor senior                                     1   \nno aplica                                                     88   \ntécnico superior de apoyo a la investigación                   1   \n\n                                                    fecha_de_publicacion  \\\ntitulo                                                                     \nADMINISTRACIÓN ESPECIAL, SUBESCALA TÉCNICA AUXI...                     1   \nADMINISTRATIVO                                                         5   \nADMINISTRATIVO S                                                       1   \nADMINISTRATIVOS DE ADMINISTRACIÓN GENERAL                              1   \nANALISTA DE LABORATORIO                                                1   \n...                                                                  ...   \nVIGILANTE S                                                            1   \ncoordinador de ensayos clínicos                                        1   \ninvestigador doctor senior                                             1   \nno aplica                                                             88   \ntécnico superior de apoyo a la investigación                           1   \n\n                                                    fecha_de_cierre  \\\ntitulo                                                                \nADMINISTRACIÓN ESPECIAL, SUBESCALA TÉCNICA AUXI...                1   \nADMINISTRATIVO                                                    5   \nADMINISTRATIVO S                                                  1   \nADMINISTRATIVOS DE ADMINISTRACIÓN GENERAL                         1   \nANALISTA DE LABORATORIO                                           1   \n...                                                             ...   \nVIGILANTE S                                                       1   \ncoordinador de ensayos clínicos                                   1   \ninvestigador doctor senior                                        1   \nno aplica                                                        88   \ntécnico superior de apoyo a la investigación                      1   \n\n                                                    referencia  \ntitulo                                                          \nADMINISTRACIÓN ESPECIAL, SUBESCALA TÉCNICA AUXI...           1  \nADMINISTRATIVO                                               5  \nADMINISTRATIVO S                                             1  \nADMINISTRATIVOS DE ADMINISTRACIÓN GENERAL                    1  \nANALISTA DE LABORATORIO                                      1  \n...                                                        ...  \nVIGILANTE S                                                  1  \ncoordinador de ensayos clínicos                              1  \ninvestigador doctor senior                                   1  \nno aplica                                                   88  \ntécnico superior de apoyo a la investigación                 1  \n\n[269 rows x 10 columns]",
      "text/html": "<div>\n<style scoped>\n    .dataframe tbody tr th:only-of-type {\n        vertical-align: middle;\n    }\n\n    .dataframe tbody tr th {\n        vertical-align: top;\n    }\n\n    .dataframe thead th {\n        text-align: right;\n    }\n</style>\n<table border=\"1\" class=\"dataframe\">\n  <thead>\n    <tr style=\"text-align: right;\">\n      <th></th>\n      <th>texto_original</th>\n      <th>organismo_que_convoca</th>\n      <th>titulacion_requerida</th>\n      <th>via</th>\n      <th>plazas_convocadas</th>\n      <th>plazas_libres</th>\n      <th>otras_plazas</th>\n      <th>fecha_de_publicacion</th>\n      <th>fecha_de_cierre</th>\n      <th>referencia</th>\n    </tr>\n    <tr>\n      <th>titulo</th>\n      <th></th>\n      <th></th>\n      <th></th>\n      <th></th>\n      <th></th>\n      <th></th>\n      <th></th>\n      <th></th>\n      <th></th>\n      <th></th>\n    </tr>\n  </thead>\n  <tbody>\n    <tr>\n      <th>ADMINISTRACIÓN ESPECIAL, SUBESCALA TÉCNICA AUXILIA R</th>\n      <td>1</td>\n      <td>1</td>\n      <td>1</td>\n      <td>1</td>\n      <td>1</td>\n      <td>1</td>\n      <td>1</td>\n      <td>1</td>\n      <td>1</td>\n      <td>1</td>\n    </tr>\n    <tr>\n      <th>ADMINISTRATIVO</th>\n      <td>5</td>\n      <td>5</td>\n      <td>5</td>\n      <td>5</td>\n      <td>5</td>\n      <td>5</td>\n      <td>5</td>\n      <td>5</td>\n      <td>5</td>\n      <td>5</td>\n    </tr>\n    <tr>\n      <th>ADMINISTRATIVO S</th>\n      <td>1</td>\n      <td>1</td>\n      <td>1</td>\n      <td>1</td>\n      <td>1</td>\n      <td>1</td>\n      <td>1</td>\n      <td>1</td>\n      <td>1</td>\n      <td>1</td>\n    </tr>\n    <tr>\n      <th>ADMINISTRATIVOS DE ADMINISTRACIÓN GENERAL</th>\n      <td>1</td>\n      <td>1</td>\n      <td>1</td>\n      <td>1</td>\n      <td>1</td>\n      <td>1</td>\n      <td>1</td>\n      <td>1</td>\n      <td>1</td>\n      <td>1</td>\n    </tr>\n    <tr>\n      <th>ANALISTA DE LABORATORIO</th>\n      <td>1</td>\n      <td>1</td>\n      <td>1</td>\n      <td>1</td>\n      <td>1</td>\n      <td>1</td>\n      <td>1</td>\n      <td>1</td>\n      <td>1</td>\n      <td>1</td>\n    </tr>\n    <tr>\n      <th>...</th>\n      <td>...</td>\n      <td>...</td>\n      <td>...</td>\n      <td>...</td>\n      <td>...</td>\n      <td>...</td>\n      <td>...</td>\n      <td>...</td>\n      <td>...</td>\n      <td>...</td>\n    </tr>\n    <tr>\n      <th>VIGILANTE S</th>\n      <td>1</td>\n      <td>1</td>\n      <td>1</td>\n      <td>1</td>\n      <td>1</td>\n      <td>1</td>\n      <td>1</td>\n      <td>1</td>\n      <td>1</td>\n      <td>1</td>\n    </tr>\n    <tr>\n      <th>coordinador de ensayos clínicos</th>\n      <td>1</td>\n      <td>1</td>\n      <td>1</td>\n      <td>1</td>\n      <td>1</td>\n      <td>1</td>\n      <td>1</td>\n      <td>1</td>\n      <td>1</td>\n      <td>1</td>\n    </tr>\n    <tr>\n      <th>investigador doctor senior</th>\n      <td>1</td>\n      <td>1</td>\n      <td>1</td>\n      <td>1</td>\n      <td>1</td>\n      <td>1</td>\n      <td>1</td>\n      <td>1</td>\n      <td>1</td>\n      <td>1</td>\n    </tr>\n    <tr>\n      <th>no aplica</th>\n      <td>88</td>\n      <td>88</td>\n      <td>88</td>\n      <td>88</td>\n      <td>88</td>\n      <td>88</td>\n      <td>88</td>\n      <td>88</td>\n      <td>88</td>\n      <td>88</td>\n    </tr>\n    <tr>\n      <th>técnico superior de apoyo a la investigación</th>\n      <td>1</td>\n      <td>1</td>\n      <td>1</td>\n      <td>1</td>\n      <td>1</td>\n      <td>1</td>\n      <td>1</td>\n      <td>1</td>\n      <td>1</td>\n      <td>1</td>\n    </tr>\n  </tbody>\n</table>\n<p>269 rows × 10 columns</p>\n</div>"
     },
     "execution_count": 31,
     "metadata": {},
     "output_type": "execute_result"
    }
   ],
   "source": [
    "df.groupby(['titulo']).count()"
   ],
   "metadata": {
    "collapsed": false
   }
  },
  {
   "cell_type": "code",
   "execution_count": null,
   "outputs": [],
   "source": [],
   "metadata": {
    "collapsed": false
   }
  }
 ],
 "metadata": {
  "kernelspec": {
   "display_name": "Python 3",
   "language": "python",
   "name": "python3"
  },
  "language_info": {
   "codemirror_mode": {
    "name": "ipython",
    "version": 2
   },
   "file_extension": ".py",
   "mimetype": "text/x-python",
   "name": "python",
   "nbconvert_exporter": "python",
   "pygments_lexer": "ipython2",
   "version": "2.7.6"
  }
 },
 "nbformat": 4,
 "nbformat_minor": 0
}
