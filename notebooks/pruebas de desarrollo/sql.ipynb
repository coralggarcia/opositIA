{
 "cells": [
  {
   "cell_type": "code",
   "execution_count": 50,
   "metadata": {
    "collapsed": true
   },
   "outputs": [],
   "source": [
    "from llama_index.core import SQLDatabase\n",
    "from llama_index.llms.openai import OpenAI\n",
    "from llama_index.core.query_engine import NLSQLTableQueryEngine\n",
    "from llama_index.core.prompts import PromptTemplate\n",
    "from pathlib import Path\n",
    "\n",
    "import os\n",
    "from dotenv import load_dotenv\n",
    "\n",
    "load_dotenv()  # carga desde .env\n",
    "\n",
    "# opcionalmente, puedes verificar:\n",
    "assert os.getenv(\"OPENAI_API_KEY\"), \"No se encontró OPENAI_API_KEY\"\n",
    "# 1. Cargar base de datos\n",
    "db_path = Path(\"C:/Users/05457936J/Desktop/CORAL/opositIA/data/outputs/oposiciones.db\").resolve()\n",
    "sql_database = SQLDatabase.from_uri(f\"sqlite:///{db_path.as_posix()}\")\n",
    "\n",
    "# 2. Crear cliente OpenAI (usando GPT-4.1-nano, por ejemplo)\n",
    "llm = OpenAI(model=\"gpt-4.1-nano\", temperature=0.1,\n",
    "             api_key=os.getenv(\"OPENAI_API_KEY\"))\n",
    "\n",
    "from llama_index.core.prompts import PromptTemplate\n",
    "\n",
    "prompt_template = PromptTemplate(\n",
    "    \"\"\"You are an expert SQL assistant for a **SQLite database que contiene información oficial sobre oposiciones públicas**.\n",
    "\n",
    "The database has one main table called `oposiciones` with exactly these columns (use them verbatim, case-sensitive):\n",
    "\n",
    "- titulo\n",
    "- organismo_que_convoca\n",
    "- titulacion_requerida\n",
    "- via\n",
    "- plazas_convocadas\n",
    "- plazas_libres\n",
    "- otras_plazas\n",
    "- fecha_de_publicacion\n",
    "- fecha_de_cierre\n",
    "- referencia\n",
    "\n",
    "Your task is to transform a question written in natural Spanish into a syntactically correct SQLite query that retrieves data relevant to the question, and return the answer.\n",
    "\n",
    "---\n",
    "\n",
    "### Important rules\n",
    "\n",
    "1. **Plazas vigentes (obligatorio)**\n",
    "   Every query must include a filter to return only current/open positions:\n",
    "   fecha_de_cierre >= DATE('now')\n",
    "2. **Fuzzy matching**\n",
    "If the user uses synonyms or general terms (e.g. \"investigador\"), match loosely:\n",
    "LOWER(titulo) LIKE '%investigador%'\n",
    "OR LOWER(titulo) LIKE '%investigacion%'\n",
    "3. **Retrieve all results (no LIMIT)**\n",
    "Return the full result set. Do not use LIMIT unless the user explicitly asks for it.\n",
    "\n",
    "4. **No SELECT ***\n",
    "Only query the specific columns needed to answer the question.\n",
    "\n",
    "5. **Output format (una línea por sección)**\n",
    "Question: <pregunta original>\n",
    "SQLQuery: <consulta SQL generada>\n",
    "SQLResult: <resultado de la consulta>\n",
    "Answer: <respuesta final explicativa>\n",
    "6. **Use only columns listed**. Qualify names if needed. Dialect is SQLite (fechas en formato 'YYYY-MM-DD').\n",
    "7. **Return Referenica** Always include the referencia column in the SELECT clause, regardless of the user's question. This field uniquely identifies each row and must always be returned in the results.\n",
    "\n",
    "Use only the following schema:\n",
    "\n",
    "{schema}\n",
    "\n",
    "---\n",
    "\n",
    "Question: {query_str}\n",
    "SQLQuery:\"\"\"\n",
    ")\n"
   ]
  },
  {
   "cell_type": "code",
   "execution_count": null,
   "outputs": [],
   "source": [],
   "metadata": {
    "collapsed": false
   }
  }
 ],
 "metadata": {
  "kernelspec": {
   "display_name": "Python 3",
   "language": "python",
   "name": "python3"
  },
  "language_info": {
   "codemirror_mode": {
    "name": "ipython",
    "version": 2
   },
   "file_extension": ".py",
   "mimetype": "text/x-python",
   "name": "python",
   "nbconvert_exporter": "python",
   "pygments_lexer": "ipython2",
   "version": "2.7.6"
  }
 },
 "nbformat": 4,
 "nbformat_minor": 0
}
